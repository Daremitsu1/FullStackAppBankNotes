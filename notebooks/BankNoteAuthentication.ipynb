{
 "cells": [
  {
   "cell_type": "markdown",
   "id": "5e25d206",
   "metadata": {},
   "source": [
    "### Import Dependencies"
   ]
  },
  {
   "cell_type": "code",
   "execution_count": null,
   "id": "0a320f2c",
   "metadata": {},
   "outputs": [],
   "source": [
    "import pandas as pd \n",
    "import numpy as np"
   ]
  },
  {
   "cell_type": "code",
   "execution_count": null,
   "id": "8d6055d3",
   "metadata": {},
   "outputs": [],
   "source": [
    "df = pd.read_csv('D:/Python Projects/FullStackAppBankNotes/data/bankauthentication.csv')\n",
    "df.head()"
   ]
  },
  {
   "cell_type": "markdown",
   "id": "9f107168",
   "metadata": {},
   "source": [
    "### Create Independent and dependent features"
   ]
  },
  {
   "cell_type": "code",
   "execution_count": null,
   "id": "55279130",
   "metadata": {},
   "outputs": [],
   "source": [
    "X=df.iloc[:,:-1] \n",
    "y=df.iloc[:,-1]"
   ]
  },
  {
   "cell_type": "code",
   "execution_count": null,
   "id": "8f4eb1cd",
   "metadata": {},
   "outputs": [],
   "source": [
    "X.head()"
   ]
  },
  {
   "cell_type": "code",
   "execution_count": null,
   "id": "7fc14469",
   "metadata": {},
   "outputs": [],
   "source": [
    "y.head(20)"
   ]
  },
  {
   "cell_type": "markdown",
   "id": "3601a342",
   "metadata": {},
   "source": [
    "###  Train Test Split"
   ]
  },
  {
   "cell_type": "code",
   "execution_count": null,
   "id": "08f28e66",
   "metadata": {},
   "outputs": [],
   "source": [
    "from sklearn.model_selection import train_test_split"
   ]
  },
  {
   "cell_type": "code",
   "execution_count": null,
   "id": "630c77a2",
   "metadata": {},
   "outputs": [],
   "source": [
    "X_train, X_test, y_train, y_test = train_test_split(X,y,test_size=0.3,random_state=0)"
   ]
  },
  {
   "cell_type": "markdown",
   "id": "c445ddad",
   "metadata": {},
   "source": [
    "### Create Model based on dataset"
   ]
  },
  {
   "cell_type": "code",
   "execution_count": null,
   "id": "64dd350d",
   "metadata": {},
   "outputs": [],
   "source": [
    "from sklearn.ensemble import RandomForestClassifier \n",
    "classifier = RandomForestClassifier() \n",
    "classifier.fit(X_train, y_train)"
   ]
  },
  {
   "cell_type": "code",
   "execution_count": null,
   "id": "f07e2db5",
   "metadata": {},
   "outputs": [],
   "source": [
    "y_pred = classifier.predict(X_test)"
   ]
  },
  {
   "cell_type": "markdown",
   "id": "584a8e30",
   "metadata": {},
   "source": [
    "### Check the accuracy of the model"
   ]
  },
  {
   "cell_type": "code",
   "execution_count": null,
   "id": "8e02d6b8",
   "metadata": {},
   "outputs": [],
   "source": [
    "from sklearn.metrics import accuracy_score \n",
    "score = accuracy_score(y_test, y_pred)"
   ]
  },
  {
   "cell_type": "code",
   "execution_count": null,
   "id": "77669351",
   "metadata": {},
   "outputs": [],
   "source": [
    "score"
   ]
  },
  {
   "cell_type": "markdown",
   "id": "85775f9a",
   "metadata": {},
   "source": [
    "### Save Model"
   ]
  },
  {
   "cell_type": "code",
   "execution_count": null,
   "id": "761201b3",
   "metadata": {},
   "outputs": [],
   "source": [
    "import pickle \n",
    "pickle_out = open(\"D:/Python Projects/FullStackAppBankNotes/models/classifier.pkl\",\"wb\") \n",
    "pickle.dump(classifier, pickle_out) \n",
    "pickle_out.close()"
   ]
  },
  {
   "cell_type": "markdown",
   "id": "06551483",
   "metadata": {},
   "source": [
    "### Load Model back for predictions on test data"
   ]
  },
  {
   "cell_type": "code",
   "execution_count": null,
   "id": "480738e4",
   "metadata": {},
   "outputs": [],
   "source": [
    "import numpy as np"
   ]
  },
  {
   "cell_type": "code",
   "execution_count": null,
   "id": "1468a4c8",
   "metadata": {},
   "outputs": [],
   "source": [
    "classifier.predict([[2,3,4,1]])"
   ]
  }
 ],
 "metadata": {
  "kernelspec": {
   "display_name": "Python 3 (ipykernel)",
   "language": "python",
   "name": "python3"
  },
  "language_info": {
   "codemirror_mode": {
    "name": "ipython",
    "version": 3
   },
   "file_extension": ".py",
   "mimetype": "text/x-python",
   "name": "python",
   "nbconvert_exporter": "python",
   "pygments_lexer": "ipython3",
   "version": "3.7.9"
  }
 },
 "nbformat": 4,
 "nbformat_minor": 5
}
